{
 "cells": [
  {
   "cell_type": "code",
   "execution_count": 4,
   "metadata": {},
   "outputs": [],
   "source": [
    "# Import necessary libraries\n",
    "import pandas as pd\n",
    "import dash\n",
    "from dash import dcc, html\n",
    "from dash.dependencies import Input, Output\n",
    "from category_encoders import OneHotEncoder\n",
    "from sklearn.pipeline import Pipeline\n",
    "import joblib\n",
    "\n",
    "# Supress warnings\n",
    "import warnings\n",
    "warnings.simplefilter(action=\"ignore\", category=Warning)"
   ]
  },
  {
   "cell_type": "code",
   "execution_count": 5,
   "metadata": {},
   "outputs": [],
   "source": [
    "# Initialize the Dash app\n",
    "app = dash.Dash(__name__)\n",
    "\n",
    "# Define color scheme\n",
    "colors = {\n",
    "    'background': '#f9f9f9',  # Light gray background\n",
    "    'text': '#333333',        # Dark gray text color\n",
    "    'accent': '#4CAF50',      # Green accent color\n",
    "    'button': '#FF5733',      # Orange button color\n",
    "}\n",
    "\n",
    "app.layout = html.Div(style={'backgroundColor': colors['background'], 'padding': '20px'}, children=[\n",
    "    html.H1(\"Market Cap Prediction\", style={'color': colors['text'], 'textAlign': 'center'}),\n",
    "    html.Div(style={'marginBottom': '20px'}, children=[\n",
    "        html.Label('open', style={'color': colors['text']}),\n",
    "        dcc.Input(\n",
    "            id='open-input',\n",
    "            type='number',\n",
    "            value=0\n",
    "        ),\n",
    "    ]),\n",
    "    html.Div(style={'marginBottom': '20px'}, children=[\n",
    "        html.Label('high', style={'color': colors['text']}),\n",
    "        dcc.Input(\n",
    "            id='high-input',\n",
    "            type='number',\n",
    "            value=0\n",
    "        ),\n",
    "    ]),\n",
    "    html.Div(style={'marginBottom': '20px'}, children=[\n",
    "        html.Label('low', style={'color': colors['text']}),\n",
    "        dcc.Input(\n",
    "            id='low-input',\n",
    "            type='number',\n",
    "            value=0\n",
    "        ),\n",
    "    ]),\n",
    "    html.Div(style={'marginBottom': '20px'}, children=[\n",
    "        html.Label('close', style={'color': colors['text']}),\n",
    "        dcc.Input(\n",
    "            id='close-input',\n",
    "            type='number',\n",
    "            value=0\n",
    "        ),\n",
    "    ]),\n",
    "    html.Div(style={'marginBottom': '20px'}, children=[\n",
    "        html.Label('volume', style={'color': colors['text']}),\n",
    "        dcc.Input(\n",
    "            id='volume-input',\n",
    "            type='number',\n",
    "            value=0\n",
    "        ),\n",
    "    ]),\n",
    "    \n",
    "    html.Button('Predict', id='predict-button', n_clicks=0, style={'backgroundColor': colors['button'], 'color': '#FFFFFF', 'marginTop': '20px'}),\n",
    "    \n",
    "    html.Div(id='output-prediction', style={'marginTop': '20px', 'fontWeight': 'bold', 'fontSize': '18px', 'color': colors['accent'], 'textAlign': 'center'})\n",
    "])\n",
    "\n",
    "\n",
    "# Load Model\n",
    "model = joblib.load('../artifacts/model.sav')\n",
    "\n",
    "# Define callback function to handle user input and generate prediction\n",
    "@app.callback(\n",
    "    Output('output-prediction', 'children'),\n",
    "    [Input('predict-button', 'n_clicks')],\n",
    "    [dash.dependencies.State('open-input', 'value'),\n",
    "     dash.dependencies.State('high-input', 'value'),\n",
    "     dash.dependencies.State('low-input', 'value'),\n",
    "     dash.dependencies.State('close-input', 'value'),\n",
    "     dash.dependencies.State('volume-input', 'value')]\n",
    ")\n",
    "def predict_loan_approval(n_clicks, open, high, low, close, volume):\n",
    "    print(\"open:\", open)\n",
    "    print(\"high:\", high)\n",
    "    print(\"low:\", low)\n",
    "    print(\"close:\", close)\n",
    "    print(\"volume:\", volume)\n",
    "\n",
    "    input_data = pd.DataFrame({\n",
    "        'Open': [open],\n",
    "        'High':[high],\n",
    "        'Low': [low],\n",
    "        'Close': [close],\n",
    "        'Volume': [volume]\n",
    "    })\n",
    "    \n",
    "    # Make predictions\n",
    "    prediction = model.predict(input_data)\n",
    "    prediction_result = prediction[0]*-1\n",
    "    return f\"Prediction: {prediction_result}\""
   ]
  },
  {
   "cell_type": "code",
   "execution_count": 6,
   "metadata": {},
   "outputs": [
    {
     "data": {
      "text/html": [
       "\n",
       "        <iframe\n",
       "            width=\"100%\"\n",
       "            height=\"650\"\n",
       "            src=\"http://127.0.0.1:8050/\"\n",
       "            frameborder=\"0\"\n",
       "            allowfullscreen\n",
       "            \n",
       "        ></iframe>\n",
       "        "
      ],
      "text/plain": [
       "<IPython.lib.display.IFrame at 0x1b49dda9090>"
      ]
     },
     "metadata": {},
     "output_type": "display_data"
    },
    {
     "name": "stdout",
     "output_type": "stream",
     "text": [
      "open: 0\n",
      "high: 0\n",
      "low: 0\n",
      "close: 0\n",
      "volume: 0\n"
     ]
    }
   ],
   "source": [
    "\n",
    "# Run the app\n",
    "if __name__ == '__main__':\n",
    "    app.run_server(debug=True)\n"
   ]
  }
 ],
 "metadata": {
  "kernelspec": {
   "display_name": "base",
   "language": "python",
   "name": "python3"
  },
  "language_info": {
   "codemirror_mode": {
    "name": "ipython",
    "version": 3
   },
   "file_extension": ".py",
   "mimetype": "text/x-python",
   "name": "python",
   "nbconvert_exporter": "python",
   "pygments_lexer": "ipython3",
   "version": "3.11.4"
  }
 },
 "nbformat": 4,
 "nbformat_minor": 2
}
