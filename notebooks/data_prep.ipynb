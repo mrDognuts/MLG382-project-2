{
 "cells": [
  {
   "cell_type": "code",
   "execution_count": 390,
   "metadata": {},
   "outputs": [],
   "source": [
    "import pandas as pd\n",
    "import numpy as np\n",
    "\n",
    "import matplotlib.pyplot as plt\n",
    "import seaborn as sns\n",
    "from scipy.stats import pearsonr\n",
    "from sklearn.preprocessing import StandardScaler\n",
    "from sklearn.model_selection import train_test_split\n",
    "import datetime\n",
    "\n",
    "from sklearn.linear_model import LinearRegression, LogisticRegression\n",
    "from category_encoders import OneHotEncoder\n",
    "from sklearn.pipeline import make_pipeline\n",
    "\n"
   ]
  },
  {
   "cell_type": "code",
   "execution_count": 391,
   "metadata": {},
   "outputs": [
    {
     "name": "stdout",
     "output_type": "stream",
     "text": [
      "   Unnamed: 0        Date     Open     High      Low    Close        Volume  \\\n",
      "0           0  2017-09-22  3628.02  3758.27  3553.53  3630.70  1.194830e+09   \n",
      "1           1  2017-09-21  3901.47  3916.42  3613.63  3631.04  1.411480e+09   \n",
      "2           2  2017-09-20  3916.36  4031.39  3857.73  3905.95  1.213830e+09   \n",
      "3           3  2017-09-19  4073.79  4094.07  3868.87  3924.97  1.563980e+09   \n",
      "4           4  2017-09-18  3591.09  4079.23  3591.09  4065.20  1.943210e+09   \n",
      "\n",
      "    Market Cap  \n",
      "0  60152300000  \n",
      "1  64677600000  \n",
      "2  64918500000  \n",
      "3  67520300000  \n",
      "4  59514100000  \n",
      "Unnamed: 0      int64\n",
      "Date           object\n",
      "Open          float64\n",
      "High          float64\n",
      "Low           float64\n",
      "Close         float64\n",
      "Volume        float64\n",
      "Market Cap      int64\n",
      "dtype: object\n"
     ]
    }
   ],
   "source": [
    "# Load the data from a CSV file\n",
    "path = '../data/BitCoin.csv'\n",
    "\n",
    "df = pd.read_csv(path)\n",
    "print(df.head())\n",
    "print(df.dtypes)\n"
   ]
  },
  {
   "cell_type": "code",
   "execution_count": 392,
   "metadata": {},
   "outputs": [],
   "source": [
    "# print(df.describe())"
   ]
  },
  {
   "cell_type": "code",
   "execution_count": 393,
   "metadata": {},
   "outputs": [],
   "source": [
    "# df.info()"
   ]
  },
  {
   "cell_type": "code",
   "execution_count": 394,
   "metadata": {},
   "outputs": [],
   "source": [
    "# Calculate quartiles\n",
    "def calculate_quartiles(df, column):\n",
    "    # Calculate the quartiles\n",
    "    Q1 = df[column].quantile(0.25)\n",
    "    Q3 = df[column].quantile(0.75)\n",
    "    IQR = Q3 - Q1\n",
    "    return Q1, Q3, IQR\n",
    "\n",
    "\n",
    "def prepare_data(path):    \n",
    "    #conferting one column data type to datetime\n",
    "    df['Date'] = pd.to_datetime(df['Date'],unit='s')\n",
    "    df = df.sort_values(by='Timestamp')#sorting acording to timestamp\n",
    "\n",
    "    columns = ['Open', 'High', 'Low', 'Close', 'Volume_(BTC)', 'Volume_(Currency)', 'Weighted_Price']\n",
    "    \n",
    "    #filling missing nan values\n",
    "    for column in columns:\n",
    "        df[column] = df[column].interpolate(method='linear', limit_direction='both')\n",
    "    \n",
    "\n",
    "#df.isnull().sum()\n"
   ]
  },
  {
   "cell_type": "code",
   "execution_count": 395,
   "metadata": {},
   "outputs": [],
   "source": [
    "# Checking for Na values\n",
    "# df.isnull().any()\n",
    "# df.isnull().sum()"
   ]
  },
  {
   "cell_type": "code",
   "execution_count": 396,
   "metadata": {},
   "outputs": [],
   "source": [
    "#  Dropping unnessacery columns \n",
    "df.drop( columns='Unnamed: 0', inplace=True)\n",
    "# df.head()\n"
   ]
  },
  {
   "cell_type": "code",
   "execution_count": 397,
   "metadata": {},
   "outputs": [],
   "source": [
    "# df.describe()"
   ]
  },
  {
   "cell_type": "code",
   "execution_count": 398,
   "metadata": {},
   "outputs": [],
   "source": [
    "# df.info()"
   ]
  },
  {
   "cell_type": "code",
   "execution_count": 399,
   "metadata": {},
   "outputs": [
    {
     "data": {
      "text/html": [
       "<div>\n",
       "<style scoped>\n",
       "    .dataframe tbody tr th:only-of-type {\n",
       "        vertical-align: middle;\n",
       "    }\n",
       "\n",
       "    .dataframe tbody tr th {\n",
       "        vertical-align: top;\n",
       "    }\n",
       "\n",
       "    .dataframe thead th {\n",
       "        text-align: right;\n",
       "    }\n",
       "</style>\n",
       "<table border=\"1\" class=\"dataframe\">\n",
       "  <thead>\n",
       "    <tr style=\"text-align: right;\">\n",
       "      <th></th>\n",
       "      <th>Date</th>\n",
       "      <th>Open</th>\n",
       "      <th>High</th>\n",
       "      <th>Low</th>\n",
       "      <th>Close</th>\n",
       "      <th>Volume</th>\n",
       "      <th>Market Cap</th>\n",
       "      <th>log_open</th>\n",
       "      <th>log_high</th>\n",
       "      <th>log_low</th>\n",
       "      <th>log_close</th>\n",
       "      <th>log_volume</th>\n",
       "    </tr>\n",
       "  </thead>\n",
       "  <tbody>\n",
       "    <tr>\n",
       "      <th>0</th>\n",
       "      <td>2017-09-22</td>\n",
       "      <td>3628.02</td>\n",
       "      <td>3758.27</td>\n",
       "      <td>3553.53</td>\n",
       "      <td>3630.70</td>\n",
       "      <td>1.194830e+09</td>\n",
       "      <td>60152300000</td>\n",
       "      <td>8.196442</td>\n",
       "      <td>8.231714</td>\n",
       "      <td>8.175697</td>\n",
       "      <td>8.197181</td>\n",
       "      <td>20.901270</td>\n",
       "    </tr>\n",
       "    <tr>\n",
       "      <th>1</th>\n",
       "      <td>2017-09-21</td>\n",
       "      <td>3901.47</td>\n",
       "      <td>3916.42</td>\n",
       "      <td>3613.63</td>\n",
       "      <td>3631.04</td>\n",
       "      <td>1.411480e+09</td>\n",
       "      <td>64677600000</td>\n",
       "      <td>8.269109</td>\n",
       "      <td>8.272933</td>\n",
       "      <td>8.192468</td>\n",
       "      <td>8.197274</td>\n",
       "      <td>21.067905</td>\n",
       "    </tr>\n",
       "    <tr>\n",
       "      <th>2</th>\n",
       "      <td>2017-09-20</td>\n",
       "      <td>3916.36</td>\n",
       "      <td>4031.39</td>\n",
       "      <td>3857.73</td>\n",
       "      <td>3905.95</td>\n",
       "      <td>1.213830e+09</td>\n",
       "      <td>64918500000</td>\n",
       "      <td>8.272918</td>\n",
       "      <td>8.301867</td>\n",
       "      <td>8.257834</td>\n",
       "      <td>8.270256</td>\n",
       "      <td>20.917046</td>\n",
       "    </tr>\n",
       "    <tr>\n",
       "      <th>3</th>\n",
       "      <td>2017-09-19</td>\n",
       "      <td>4073.79</td>\n",
       "      <td>4094.07</td>\n",
       "      <td>3868.87</td>\n",
       "      <td>3924.97</td>\n",
       "      <td>1.563980e+09</td>\n",
       "      <td>67520300000</td>\n",
       "      <td>8.312329</td>\n",
       "      <td>8.317295</td>\n",
       "      <td>8.260718</td>\n",
       "      <td>8.275114</td>\n",
       "      <td>21.170500</td>\n",
       "    </tr>\n",
       "    <tr>\n",
       "      <th>4</th>\n",
       "      <td>2017-09-18</td>\n",
       "      <td>3591.09</td>\n",
       "      <td>4079.23</td>\n",
       "      <td>3591.09</td>\n",
       "      <td>4065.20</td>\n",
       "      <td>1.943210e+09</td>\n",
       "      <td>59514100000</td>\n",
       "      <td>8.186211</td>\n",
       "      <td>8.313664</td>\n",
       "      <td>8.186211</td>\n",
       "      <td>8.310218</td>\n",
       "      <td>21.387607</td>\n",
       "    </tr>\n",
       "  </tbody>\n",
       "</table>\n",
       "</div>"
      ],
      "text/plain": [
       "         Date     Open     High      Low    Close        Volume   Market Cap  \\\n",
       "0  2017-09-22  3628.02  3758.27  3553.53  3630.70  1.194830e+09  60152300000   \n",
       "1  2017-09-21  3901.47  3916.42  3613.63  3631.04  1.411480e+09  64677600000   \n",
       "2  2017-09-20  3916.36  4031.39  3857.73  3905.95  1.213830e+09  64918500000   \n",
       "3  2017-09-19  4073.79  4094.07  3868.87  3924.97  1.563980e+09  67520300000   \n",
       "4  2017-09-18  3591.09  4079.23  3591.09  4065.20  1.943210e+09  59514100000   \n",
       "\n",
       "   log_open  log_high   log_low  log_close  log_volume  \n",
       "0  8.196442  8.231714  8.175697   8.197181   20.901270  \n",
       "1  8.269109  8.272933  8.192468   8.197274   21.067905  \n",
       "2  8.272918  8.301867  8.257834   8.270256   20.917046  \n",
       "3  8.312329  8.317295  8.260718   8.275114   21.170500  \n",
       "4  8.186211  8.313664  8.186211   8.310218   21.387607  "
      ]
     },
     "execution_count": 399,
     "metadata": {},
     "output_type": "execute_result"
    }
   ],
   "source": [
    "# # Log-Transforming the ata\n",
    "df['log_open'] = np.log(df['Open'])\n",
    "df['log_high'] = np.log(df['High'])\n",
    "df['log_low'] = np.log(df['Low'])\n",
    "df['log_close'] = np.log(df['Close'])\n",
    "df['log_volume'] = np.log(df['Volume'])\n",
    "\n",
    "df.head()"
   ]
  },
  {
   "cell_type": "code",
   "execution_count": 400,
   "metadata": {},
   "outputs": [],
   "source": [
    "# df.info()"
   ]
  },
  {
   "cell_type": "code",
   "execution_count": 401,
   "metadata": {},
   "outputs": [],
   "source": [
    "# df1 = df.drop(columns='Date')\n",
    "\n",
    "# corr_matrix = np.zeros((7, 7))\n",
    "# for i in range(7):\n",
    "#     for j in range(i+1, 7):\n",
    "#         corr, _ = pearsonr(df1.iloc[:, i], df.iloc[:, j])\n",
    "#         corr_matrix[i, j] = corr\n",
    "#         corr_matrix[j, i] = corr\n",
    "\n",
    "# print(corr_matrix)"
   ]
  },
  {
   "cell_type": "code",
   "execution_count": 402,
   "metadata": {},
   "outputs": [],
   "source": [
    "df['Date'] = pd.to_datetime(df['Date'])\n",
    "\n",
    "# Droped 'Open', 'High', 'Low', 'Close', 'Volume', 'Market Cap' columns\n",
    "scaler = StandardScaler()\n",
    "df2 = df.copy()\n",
    "df2 = df.drop(columns=['Open', 'High', 'Low', 'Close', 'Volume'])\n",
    "df2['Date'] = df2['Date'].dt.strftime('%Y-%m-%d') \n",
    "df2['Date'] = df2['Date'].apply(lambda x: datetime.datetime.strptime(x, '%Y-%m-%d').timestamp())\n",
    "df_scaled_droped = scaler.fit_transform(df2)\n",
    "\n",
    "# # Columns  'Open', 'High', 'Low', 'Close', 'Volume', 'Market Cap' not droped\n",
    "# scaler = StandardScaler()\n",
    "# df['Date'] = df['Date'].dt.strftime('%Y-%m-%d') \n",
    "# df['Date'] = df['Date'].apply(lambda x: datetime.datetime.strptime(x, '%Y-%m-%d').timestamp())\n",
    "# # df_scaled_Ndroped = scaler.fit_transform(df)"
   ]
  },
  {
   "cell_type": "code",
   "execution_count": 403,
   "metadata": {},
   "outputs": [],
   "source": [
    "X_droped = df_scaled_droped[:, :-1]  # features\n",
    "y_droped = df_scaled_droped[:, -1]  # target variable\n",
    "\n",
    "X_train_droped, X_test_droped, y_train_droped, y_test_droped = train_test_split(X_droped, y_droped, test_size=0.2, random_state=42)\n",
    "\n",
    "\n",
    "# X_Ndroped = df_scaled_Ndroped[:, :-1]  # features\n",
    "# y_Ndroped = df_scaled_Ndroped[:, -1]  # target variable\n",
    "\n",
    "# X_train_Ndroped, X_test_Ndroped, y_train_Ndroped, y_test_Ndroped = train_test_split(X_Ndroped, y_Ndroped, test_size=0.2, random_state=42)\n"
   ]
  },
  {
   "cell_type": "code",
   "execution_count": 404,
   "metadata": {},
   "outputs": [],
   "source": [
    "# ohe = OneHotEncoder(use_cat_names=True)\n",
    "# encoded_df = ohe.fit_transform(df)\n",
    "# encoded_df.head()\n",
    "\n"
   ]
  },
  {
   "cell_type": "code",
   "execution_count": 405,
   "metadata": {},
   "outputs": [],
   "source": [
    "# df.head()"
   ]
  },
  {
   "cell_type": "code",
   "execution_count": 406,
   "metadata": {},
   "outputs": [],
   "source": [
    "# target = ['Market Cap' ]\n",
    "# x = df.drop(columns=target, inplace=False)\n",
    "# y = df[target]"
   ]
  },
  {
   "cell_type": "code",
   "execution_count": 407,
   "metadata": {},
   "outputs": [],
   "source": [
    "# x_train, x_test, y_train, y_test = train_test_split(x, y, test_size=0.2, random_state=42)"
   ]
  },
  {
   "cell_type": "code",
   "execution_count": 408,
   "metadata": {},
   "outputs": [],
   "source": [
    "# acc_baseline = y_train.value_counts(normalize=True).max()\n",
    "# acc_baseline"
   ]
  },
  {
   "cell_type": "code",
   "execution_count": 409,
   "metadata": {},
   "outputs": [],
   "source": [
    "model_droped = LinearRegression()\n",
    "model_droped.fit(X_train_droped, y_train_droped)\n",
    "y_pred_droped = model_droped.predict(X_test_droped)\n",
    "\n",
    "\n",
    "# model_Ndroped = LinearRegression()\n",
    "# model_Ndroped.fit(X_train_Ndroped, y_train_Ndroped)\n",
    "# y_pred_Ndroped = model_Ndroped.predict(X_test_Ndroped)"
   ]
  },
  {
   "cell_type": "code",
   "execution_count": 410,
   "metadata": {},
   "outputs": [],
   "source": [
    "# model = LogisticRegression(max_iter=500)\n",
    "# model.fit(x_train, y_train)"
   ]
  },
  {
   "cell_type": "code",
   "execution_count": 411,
   "metadata": {},
   "outputs": [],
   "source": [
    "# lr_train_acc = model.score(x_train, y_train)\n",
    "# lr_test_acc = model.score(x_test, y_test)\n",
    "\n",
    "# print(\"Logistic Regression, Training Accuracy Score:\", lr_train_acc)\n",
    "# print(\"Logistic Regression, Validation Accuracy Score:\", lr_test_acc)"
   ]
  },
  {
   "cell_type": "code",
   "execution_count": 412,
   "metadata": {},
   "outputs": [],
   "source": [
    "# y_pred = model.predict(x_test)"
   ]
  },
  {
   "cell_type": "code",
   "execution_count": 413,
   "metadata": {},
   "outputs": [],
   "source": [
    "y_pred_droped = model_droped.predict(X_test_droped)\n",
    "\n",
    "\n",
    "# y_pred_Ndroped = model_Ndroped.predict(X_test_Ndroped)"
   ]
  },
  {
   "cell_type": "code",
   "execution_count": 414,
   "metadata": {},
   "outputs": [
    {
     "data": {
      "image/png": "[encoded data removed]",
      "text/plain": [
       "<Figure size 640x480 with 1 Axes>"
      ]
     },
     "metadata": {},
     "output_type": "display_data"
    }
   ],
   "source": [
    "sns.set()\n",
    "plt.scatter(y_test_droped, y_pred_droped)\n",
    "plt.xlabel('Actual Values')\n",
    "plt.ylabel('Predicted Values')\n",
    "plt.title('Droped high correlations')\n",
    "plt.show()\n",
    "\n",
    "\n",
    "# sns.set()\n",
    "# plt.scatter(y_test, y_pred)\n",
    "# plt.xlabel('Actual Values')\n",
    "# plt.ylabel('Predicted Values')\n",
    "# plt.title('With high correlations')\n",
    "# plt.show()"
   ]
  },
  {
   "cell_type": "code",
   "execution_count": 415,
   "metadata": {},
   "outputs": [
    {
     "data": {
      "text/html": [
       "<div>\n",
       "<style scoped>\n",
       "    .dataframe tbody tr th:only-of-type {\n",
       "        vertical-align: middle;\n",
       "    }\n",
       "\n",
       "    .dataframe tbody tr th {\n",
       "        vertical-align: top;\n",
       "    }\n",
       "\n",
       "    .dataframe thead th {\n",
       "        text-align: right;\n",
       "    }\n",
       "</style>\n",
       "<table border=\"1\" class=\"dataframe\">\n",
       "  <thead>\n",
       "    <tr style=\"text-align: right;\">\n",
       "      <th></th>\n",
       "      <th>Date</th>\n",
       "      <th>log_open</th>\n",
       "      <th>log_high</th>\n",
       "      <th>log_low</th>\n",
       "      <th>log_close</th>\n",
       "      <th>log_volume</th>\n",
       "    </tr>\n",
       "  </thead>\n",
       "  <tbody>\n",
       "    <tr>\n",
       "      <th>0</th>\n",
       "      <td>1.506031e+09</td>\n",
       "      <td>8.196442</td>\n",
       "      <td>8.231714</td>\n",
       "      <td>8.175697</td>\n",
       "      <td>8.197181</td>\n",
       "      <td>20.901270</td>\n",
       "    </tr>\n",
       "    <tr>\n",
       "      <th>1</th>\n",
       "      <td>1.505945e+09</td>\n",
       "      <td>8.269109</td>\n",
       "      <td>8.272933</td>\n",
       "      <td>8.192468</td>\n",
       "      <td>8.197274</td>\n",
       "      <td>21.067905</td>\n",
       "    </tr>\n",
       "    <tr>\n",
       "      <th>2</th>\n",
       "      <td>1.505858e+09</td>\n",
       "      <td>8.272918</td>\n",
       "      <td>8.301867</td>\n",
       "      <td>8.257834</td>\n",
       "      <td>8.270256</td>\n",
       "      <td>20.917046</td>\n",
       "    </tr>\n",
       "    <tr>\n",
       "      <th>3</th>\n",
       "      <td>1.505772e+09</td>\n",
       "      <td>8.312329</td>\n",
       "      <td>8.317295</td>\n",
       "      <td>8.260718</td>\n",
       "      <td>8.275114</td>\n",
       "      <td>21.170500</td>\n",
       "    </tr>\n",
       "    <tr>\n",
       "      <th>4</th>\n",
       "      <td>1.505686e+09</td>\n",
       "      <td>8.186211</td>\n",
       "      <td>8.313664</td>\n",
       "      <td>8.186211</td>\n",
       "      <td>8.310218</td>\n",
       "      <td>21.387607</td>\n",
       "    </tr>\n",
       "  </tbody>\n",
       "</table>\n",
       "</div>"
      ],
      "text/plain": [
       "           Date  log_open  log_high   log_low  log_close  log_volume\n",
       "0  1.506031e+09  8.196442  8.231714  8.175697   8.197181   20.901270\n",
       "1  1.505945e+09  8.269109  8.272933  8.192468   8.197274   21.067905\n",
       "2  1.505858e+09  8.272918  8.301867  8.257834   8.270256   20.917046\n",
       "3  1.505772e+09  8.312329  8.317295  8.260718   8.275114   21.170500\n",
       "4  1.505686e+09  8.186211  8.313664  8.186211   8.310218   21.387607"
      ]
     },
     "execution_count": 415,
     "metadata": {},
     "output_type": "execute_result"
    }
   ],
   "source": [
    "df2.head()"
   ]
  }
 ],
 "metadata": {
  "kernelspec": {
   "display_name": "Python 3",
   "language": "python",
   "name": "python3"
  },
  "language_info": {
   "codemirror_mode": {
    "name": "ipython",
    "version": 3
   },
   "file_extension": ".py",
   "mimetype": "text/x-python",
   "name": "python",
   "nbconvert_exporter": "python",
   "pygments_lexer": "ipython3",
   "version": "3.11.4"
  }
 },
 "nbformat": 4,
 "nbformat_minor": 2
}
