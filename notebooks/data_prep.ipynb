{
 "cells": [
  {
   "cell_type": "code",
   "execution_count": 1,
   "metadata": {},
   "outputs": [],
   "source": [
    "import pandas as pd\n",
    "import numpy as np\n",
    "\n",
    "import matplotlib.pyplot as plt\n",
    "import seaborn as sns\n",
    "from scipy.stats import pearsonr\n",
    "from sklearn.preprocessing import StandardScaler\n",
    "from sklearn.model_selection import train_test_split\n",
    "import datetime\n",
    "\n",
    "from sklearn.metrics import mean_absolute_error, mean_squared_error, mean_absolute_percentage_error, r2_score\n",
    "from sklearn.linear_model import LinearRegression\n",
    "from sklearn.model_selection import cross_val_score\n",
    "from sklearn.model_selection import GridSearchCV"
   ]
  },
  {
   "cell_type": "code",
   "execution_count": 2,
   "metadata": {},
   "outputs": [
    {
     "name": "stdout",
     "output_type": "stream",
     "text": [
      "   Unnamed: 0        Date     Open     High      Low    Close        Volume  \\\n",
      "0           0  2017-09-22  3628.02  3758.27  3553.53  3630.70  1.194830e+09   \n",
      "1           1  2017-09-21  3901.47  3916.42  3613.63  3631.04  1.411480e+09   \n",
      "2           2  2017-09-20  3916.36  4031.39  3857.73  3905.95  1.213830e+09   \n",
      "3           3  2017-09-19  4073.79  4094.07  3868.87  3924.97  1.563980e+09   \n",
      "4           4  2017-09-18  3591.09  4079.23  3591.09  4065.20  1.943210e+09   \n",
      "\n",
      "    Market Cap  \n",
      "0  60152300000  \n",
      "1  64677600000  \n",
      "2  64918500000  \n",
      "3  67520300000  \n",
      "4  59514100000  \n",
      "Unnamed: 0      int64\n",
      "Date           object\n",
      "Open          float64\n",
      "High          float64\n",
      "Low           float64\n",
      "Close         float64\n",
      "Volume        float64\n",
      "Market Cap      int64\n",
      "dtype: object\n"
     ]
    }
   ],
   "source": [
    "# Load the data from a CSV file\n",
    "path = '../data/BitCoin.csv'\n",
    "\n",
    "df = pd.read_csv(path)\n",
    "print(df.head())\n",
    "print(df.dtypes)\n"
   ]
  },
  {
   "cell_type": "code",
   "execution_count": 3,
   "metadata": {},
   "outputs": [],
   "source": [
    "#  Dropping unnessacery columns \n",
    "df.drop( columns='Unnamed: 0', inplace=True)\n",
    "# df.head()\n"
   ]
  },
  {
   "cell_type": "code",
   "execution_count": 4,
   "metadata": {},
   "outputs": [],
   "source": [
    "# # Log-Transforming the ata\n",
    "df['log_open'] = np.log(df['Open'])\n",
    "df['log_high'] = np.log(df['High'])\n",
    "df['log_low'] = np.log(df['Low'])\n",
    "df['log_close'] = np.log(df['Close'])\n",
    "df['log_volume'] = np.log(df['Volume'])\n",
    "\n",
    "# df.head()"
   ]
  },
  {
   "cell_type": "code",
   "execution_count": 5,
   "metadata": {},
   "outputs": [],
   "source": [
    "# Checking correlation\n",
    "\n",
    "# df1 = df.drop(columns='Date')\n",
    "\n",
    "# corr_matrix = np.zeros((7, 7))\n",
    "# for i in range(7):\n",
    "#     for j in range(i+1, 7):\n",
    "#         corr, _ = pearsonr(df1.iloc[:, i], df.iloc[:, j])\n",
    "#         corr_matrix[i, j] = corr\n",
    "#         corr_matrix[j, i] = corr\n",
    "\n",
    "# print(corr_matrix)"
   ]
  },
  {
   "cell_type": "code",
   "execution_count": 6,
   "metadata": {},
   "outputs": [],
   "source": [
    "# Scaling the data\n",
    "scaler = StandardScaler()\n",
    "df2 = df.copy()\n",
    "df2 = df.drop(columns=['Date', 'Open', 'High', 'Low', 'Close', 'Volume'])\n",
    "df_scaled = scaler.fit_transform(df2)"
   ]
  },
  {
   "cell_type": "code",
   "execution_count": 7,
   "metadata": {},
   "outputs": [],
   "source": [
    "# Saving Prepared Data\n",
    "# df2.to_csv('../data/prepared_data.csv', index=False)"
   ]
  },
  {
   "cell_type": "code",
   "execution_count": 8,
   "metadata": {},
   "outputs": [],
   "source": [
    "X = df_scaled[:, :-1]  # features\n",
    "y = df_scaled[:, -1]  # target variable - Market Cap\n",
    "\n",
    "X_train, X_test, y_train, y_test = train_test_split(X, y, test_size=0.2, random_state=42)\n"
   ]
  },
  {
   "cell_type": "code",
   "execution_count": 9,
   "metadata": {},
   "outputs": [
    {
     "data": {
      "text/plain": [
       "-0.014955837044865328"
      ]
     },
     "execution_count": 9,
     "metadata": {},
     "output_type": "execute_result"
    }
   ],
   "source": [
    "# Create a baseline model\n",
    "y_pred_baseline = np.mean(y_train)\n",
    "y_pred_baseline"
   ]
  },
  {
   "cell_type": "code",
   "execution_count": 10,
   "metadata": {},
   "outputs": [],
   "source": [
    "# Declaring and fitting the Model\n",
    "model = LinearRegression()\n",
    "model.fit(X_train, y_train)\n",
    "y_pred = model.predict(X_test)"
   ]
  },
  {
   "cell_type": "code",
   "execution_count": 11,
   "metadata": {},
   "outputs": [],
   "source": [
    "# Defining the parameter grid\n",
    "param_grid = {\n",
    "    'fit_intercept': [True, False],\n",
    "    'copy_X': [True, False]\n",
    "}"
   ]
  },
  {
   "cell_type": "code",
   "execution_count": 12,
   "metadata": {},
   "outputs": [
    {
     "name": "stdout",
     "output_type": "stream",
     "text": [
      "Cross-Validation Scores: [-0.18965572 -0.18382833 -0.22392036 -0.21682425 -0.19696379]\n",
      "Mean Cross-Validation Score: -0.20223848975745326\n"
     ]
    }
   ],
   "source": [
    "# Cross-Validation\n",
    "scaler = StandardScaler(with_mean=False)\n",
    "X_scaled = scaler.fit_transform(X_train)\n",
    "\n",
    "scores = cross_val_score(model, X_scaled, y_train, cv=5, scoring='neg_mean_squared_error')\n",
    "\n",
    "# Print the scores\n",
    "print(\"Cross-Validation Scores:\", scores)\n",
    "print(\"Mean Cross-Validation Score:\", np.mean(scores))"
   ]
  },
  {
   "cell_type": "code",
   "execution_count": 13,
   "metadata": {},
   "outputs": [
    {
     "name": "stdout",
     "output_type": "stream",
     "text": [
      "Best Parameters: {'copy_X': True, 'fit_intercept': False}\n",
      "Best Score: -0.20202112604839934\n",
      "Mean Squared Error: 0.22985796052808757\n"
     ]
    }
   ],
   "source": [
    "# Hyperparameter Tuning with GridSearchCV\n",
    "grid_search = GridSearchCV(model, param_grid, cv=5, scoring='neg_mean_squared_error')\n",
    "grid_search.fit(X_train, y_train)\n",
    "\n",
    "# Print the best parameters and the best score\n",
    "print(\"Best Parameters:\", grid_search.best_params_)\n",
    "print(\"Best Score:\", grid_search.best_score_)\n",
    "\n",
    "# Evaluate the model\n",
    "y_pred = grid_search.predict(X_test)\n",
    "mse = mean_squared_error(y_test, y_pred)\n",
    "print(\"Mean Squared Error:\", mse)"
   ]
  },
  {
   "cell_type": "code",
   "execution_count": 14,
   "metadata": {},
   "outputs": [
    {
     "name": "stdout",
     "output_type": "stream",
     "text": [
      "Mean Squared Error: 0.22985796052808757\n",
      "Mean Absolute Error: 0.3822753515364923\n",
      "Mean Absolute Percentage Error: 1.797306056045319\n",
      "Root Mean Squared Percentage Error: 0.48\n",
      "Coefficient of Determination: 0.7668067663256191\n"
     ]
    }
   ],
   "source": [
    "# Evaluating the model\n",
    "mse = mean_squared_error(y_test, y_pred)\n",
    "mae = mean_absolute_error(y_test, y_pred)\n",
    "mape = mean_absolute_percentage_error(y_test, y_pred)\n",
    "rmspe = np.sqrt(np.mean((y_test - y_pred) ** 2) / np.mean(y_test ** 2))\n",
    "r2 = r2_score(y_test, y_pred)\n",
    "\n",
    "print(f'Mean Squared Error: {mse}')\n",
    "print(f'Mean Absolute Error: {mae}')\n",
    "print(f'Mean Absolute Percentage Error: {mape}')\n",
    "print(f\"Root Mean Squared Percentage Error: {rmspe:.2f}\")\n",
    "print(f'Coefficient of Determination: {r2}')"
   ]
  },
  {
   "cell_type": "code",
   "execution_count": 15,
   "metadata": {},
   "outputs": [
    {
     "data": {
      "image/png": "[encoded data removed]",
      "text/plain": [
       "<Figure size 640x480 with 1 Axes>"
      ]
     },
     "metadata": {},
     "output_type": "display_data"
    }
   ],
   "source": [
    "# Visualizing the prediction\n",
    "sns.set()\n",
    "plt.scatter(y_test, y_pred)\n",
    "plt.xlabel('Actual Values')\n",
    "plt.ylabel('Predicted Values')\n",
    "plt.title('Visualized Model')\n",
    "plt.show()"
   ]
  },
  {
   "cell_type": "code",
   "execution_count": 16,
   "metadata": {},
   "outputs": [],
   "source": [
    "# Saving the model\n",
    "# import joblib\n",
    "\n",
    "# joblib.dump(model, '../artifacts/model.sav')"
   ]
  }
 ],
 "metadata": {
  "kernelspec": {
   "display_name": "Python 3",
   "language": "python",
   "name": "python3"
  },
  "language_info": {
   "codemirror_mode": {
    "name": "ipython",
    "version": 3
   },
   "file_extension": ".py",
   "mimetype": "text/x-python",
   "name": "python",
   "nbconvert_exporter": "python",
   "pygments_lexer": "ipython3",
   "version": "3.11.4"
  }
 },
 "nbformat": 4,
 "nbformat_minor": 2
}
